{
 "cells": [
  {
   "cell_type": "markdown",
   "metadata": {},
   "source": [
    "# PART I:\n",
    "\n",
    "- EDA QUESTIONS & ANSWERS"
   ]
  },
  {
   "cell_type": "markdown",
   "metadata": {},
   "source": [
    "- Q1. Are there any missing values in the dataset?\n",
    "\n",
    "     - Answer: - There are no missing values in the dataset.\n",
    "         \n"
   ]
  },
  {
   "cell_type": "markdown",
   "metadata": {},
   "source": [
    "- Q2. How are the predictor variables related to the outcome variable?\n",
    "\n",
    "     - Answer: See corr()\n",
    "          \n",
    "          - Glucose has the highest impact on the Outcome with correlation coefficient (~0.47),\n",
    "          \n",
    "          - Next is BMI (~0.29), Age (~0.24),\n",
    "          \n",
    "          - DiabetisPedigreeFunction & Insulin (~0.17), \n",
    "          \n",
    "          - BloodPressure & SkinThickness (~0.07)."
   ]
  },
  {
   "cell_type": "markdown",
   "metadata": {},
   "source": [
    "- Q3. What is the correlation between the predictor variables?\n",
    "\n",
    "    - Answer: See corr()\n",
    "    \n",
    "        - High correlation between Pregnancies and Age.\n",
    "        \n",
    "        - Moderate correlation between Glucose and Insulin, SkinThickness and Insulin, SkinThickness & BMI, BloodPressure & BMI.\n",
    "        \n",
    "        - Low/Weak correlation exists between BMI & Pregnancies, BMI & Age, BloodPressure & DiabetesPedigreeFunction, SkinThickness & Age"
   ]
  },
  {
   "cell_type": "markdown",
   "metadata": {},
   "source": [
    "Q4. What is the distribution of each predictor variable?\n",
    "\n",
    "    - Answer:\n",
    "        - It is observed that Glucose, BloodPressure & BMI have a normal distribution.\n",
    "        \n",
    "        - Pregnancies, SkinThickness, Insulin, DiabetesPedigreeFunction and Age on the other hand are right skwewed."
   ]
  },
  {
   "cell_type": "markdown",
   "metadata": {},
   "source": [
    "- Q5. Are there any outliers in the predictor variables?\n",
    "\n",
    "    - Answer: See Part II: Handling Outliers\n",
    "        \n",
    "        - Using the default settings for boxplot, we can see outliers in all predictor variables.\n",
    "\n",
    "        - Outliers for Pregnacies, SkinThickness, Insulin, DiabetesPedigreeFunction, and Age are beyond the upper quartile.\n",
    "          \n",
    "        - Outliers for BloodPressure & BMI lie in the upper and lower quartiles. Outliers for Glucose are lower quartile."
   ]
  },
  {
   "cell_type": "markdown",
   "metadata": {},
   "source": [
    "- Q6. How are the predictor variables related to each other?\n",
    "\n",
    "    - Answer: See EDA conclusion"
   ]
  },
  {
   "cell_type": "markdown",
   "metadata": {},
   "source": [
    "- Q7. Is there any interaction effect between the predictor variables?\n",
    "\n",
    "    - Answer: \n",
    "\n",
    "        No correlation among predictor variable"
   ]
  },
  {
   "cell_type": "markdown",
   "metadata": {},
   "source": [
    "- Q8. What is the average age of the individuals in the dataset?\n",
    "\n",
    "    - Answer: See brief descriptive statistics\n",
    "    \n",
    "      - 33.24 `(df.describe())`\n",
    "    "
   ]
  },
  {
   "cell_type": "markdown",
   "metadata": {},
   "source": [
    "- Q9. What is the average glucose level for individuals with diabetes and without diabetes?\n",
    "\n",
    "    - Answer: See AVERAGE PREDICTOR VARIABLES section\n",
    "    \n",
    "        - Glucose level for individuals with diabetes is 141.26.\n",
    "            \n",
    "        - Glucose level for individuals without diabetes is 109.98"
   ]
  },
  {
   "cell_type": "markdown",
   "metadata": {},
   "source": [
    "- Q10. What is the average BMI for individuals with diabetes and without diabetes?\n",
    "\n",
    "    - Answer:  \n",
    "    \n",
    "       - BMI for individuals with diabetes is 35.14\n",
    "    \n",
    "       - BMI level for individuals without diabetes is 30.3."
   ]
  },
  {
   "cell_type": "markdown",
   "metadata": {},
   "source": [
    "- Q11. How does the distribution of the predictor variables differ for individuals with diabetes and without diabetes?\n",
    "\n",
    "    - Answer:\n",
    "    \n",
    "          - Individual with diabetes have a total entry of 268 patients,\n",
    "\n",
    "          - While individuals without diabetes had a total entry of 500 patients  "
   ]
  },
  {
   "cell_type": "markdown",
   "metadata": {},
   "source": [
    "- Q12. Are there any differences in the predictor variables between males and females (if gender information is available)?\n",
    "\n",
    "    - Answer:     \n",
    "        - To answer the question about differences between predictor variables\n",
    "          for males and females, I would need gender-related information or\n",
    "          variables in the dataset and conduct a separate analysis,\n",
    "          such as gender-based comparisons or visualizations.\n",
    "          Additional data or specific analysis is required to address\n",
    "          the differences between males and females in the context of the predictor variables."
   ]
  },
  {
   "cell_type": "markdown",
   "metadata": {},
   "source": []
  },
  {
   "cell_type": "markdown",
   "metadata": {},
   "source": [
    "*Key Takeaways*"
   ]
  },
  {
   "cell_type": "markdown",
   "metadata": {},
   "source": [
    "\n",
    "The following key takeaways from \"Conclusions from EDA\" answer the respective questions:\n",
    "\n",
    "1. **No Missing Values:** The takeaway that there are no missing values in the dataset addresses the question, \"Are there any missing values in the dataset?\"\n",
    "\n",
    "2. **Imbalanced Target Variable:** This takeaway highlights the imbalanced distribution of the target variable and partially addresses the question, \"How does the distribution of the predictor variables differ for individuals with diabetes and without diabetes?\" It implies that there are significantly more individuals without diabetes (Outcome=0).\n",
    "\n",
    "3. **No Strong Linear Correlations:** The observation that there is no apparent strong linear correlation between feature variables directly answers the question, \"What is the correlation between the predictor variables?\" It indicates that linear relationships are not evident.\n",
    "\n",
    "4. **Distribution Information:** Several takeaways, such as the right-skewed distributions of \"Insulin\" and \"DiabetesPedigreeFunction,\" address the question, \"What is the distribution of each predictor variable?\"\n",
    "\n",
    "5. **Outliers in \"Insulin\":** The mention of more outliers in the \"Insulin\" feature partially addresses the question, \"Are there any outliers in the predictor variables?\"\n",
    "\n",
    "6. **Correlations from Pair Plots:** The insights provided by the pair plots, including relationships between predictor variables and their interactions, answer questions related to the relationships between the predictor variables, interaction effects, and how predictor variables are related to each other.\n",
    "\n",
    "7. **Average Values:** Takeaways about the average Glucose levels and average BMI for individuals with and without diabetes answer the questions, \"What is the average glucose level for individuals with diabetes and without diabetes?\" and \"What is the average BMI for individuals with diabetes and without diabetes?\"\n",
    "\n",
    "In summary, these key takeaways from EDA provide information on missing values, relationships between predictor variables, correlation, distributions, outliers, interaction effects, average values, and differences in predictor variables between individuals with and without diabetes."
   ]
  }
 ],
 "metadata": {
  "kernelspec": {
   "display_name": "base",
   "language": "python",
   "name": "python3"
  },
  "language_info": {
   "codemirror_mode": {
    "name": "ipython",
    "version": 3
   },
   "file_extension": ".py",
   "mimetype": "text/x-python",
   "name": "python",
   "nbconvert_exporter": "python",
   "pygments_lexer": "ipython3",
   "version": "3.11.5"
  }
 },
 "nbformat": 4,
 "nbformat_minor": 2
}
